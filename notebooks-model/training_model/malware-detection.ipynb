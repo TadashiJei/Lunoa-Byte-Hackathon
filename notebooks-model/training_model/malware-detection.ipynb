{
 "cells": [
  {
   "cell_type": "code",
   "execution_count": 1,
   "metadata": {
    "_cell_guid": "b1076dfc-b9ad-4769-8c92-a6c4dae69d19",
    "_uuid": "8f2839f25d086af736a60e9eeb907d3b93b6e0e5",
    "execution": {
     "iopub.execute_input": "2023-10-29T04:53:12.656679Z",
     "iopub.status.busy": "2023-10-29T04:53:12.656003Z",
     "iopub.status.idle": "2023-10-29T04:53:12.668052Z",
     "shell.execute_reply": "2023-10-29T04:53:12.667382Z",
     "shell.execute_reply.started": "2023-10-29T04:52:05.610431Z"
    },
    "papermill": {
     "duration": 0.04596,
     "end_time": "2023-10-29T04:53:12.668158",
     "exception": false,
     "start_time": "2023-10-29T04:53:12.622198",
     "status": "completed"
    },
    "tags": []
   },
   "outputs": [
    {
     "name": "stdout",
     "output_type": "stream",
     "text": [
      "/kaggle/input/malware-detection/Malware dataset.csv\n"
     ]
    }
   ],
   "source": [
    "# This Python 3 environment comes with many helpful analytics libraries installed\n",
    "# It is defined by the kaggle/python Docker image: https://github.com/kaggle/docker-python\n",
    "# For example, here's several helpful packages to load\n",
    "\n",
    "import numpy as np # linear algebra\n",
    "import pandas as pd # data processing, CSV file I/O (e.g. pd.read_csv)\n",
    "\n",
    "# Input data files are available in the read-only \"../input/\" directory\n",
    "# For example, running this (by clicking run or pressing Shift+Enter) will list all files under the input directory\n",
    "\n",
    "import os\n",
    "for dirname, _, filenames in os.walk('/kaggle/input'):\n",
    "    for filename in filenames:\n",
    "        print(os.path.join(dirname, filename))\n",
    "\n",
    "# You can write up to 20GB to the current directory (/kaggle/working/) that gets preserved as output when you create a version using \"Save & Run All\" \n",
    "# You can also write temporary files to /kaggle/temp/, but they won't be saved outside of the current session"
   ]
  },
  {
   "cell_type": "code",
   "execution_count": 2,
   "metadata": {
    "_cell_guid": "79c7e3d0-c299-4dcb-8224-4455121ee9b0",
    "_uuid": "d629ff2d2480ee46fbb7e2d37f6b5fab8052498a",
    "execution": {
     "iopub.execute_input": "2023-10-29T04:53:12.723605Z",
     "iopub.status.busy": "2023-10-29T04:53:12.722971Z",
     "iopub.status.idle": "2023-10-29T04:53:13.309123Z",
     "shell.execute_reply": "2023-10-29T04:53:13.309662Z",
     "shell.execute_reply.started": "2023-10-29T04:52:05.626155Z"
    },
    "papermill": {
     "duration": 0.616146,
     "end_time": "2023-10-29T04:53:13.309808",
     "exception": false,
     "start_time": "2023-10-29T04:53:12.693662",
     "status": "completed"
    },
    "tags": []
   },
   "outputs": [
    {
     "name": "stdout",
     "output_type": "stream",
     "text": [
      "(100000, 35)\n"
     ]
    },
    {
     "data": {
      "text/html": [
       "<div>\n",
       "<style scoped>\n",
       "    .dataframe tbody tr th:only-of-type {\n",
       "        vertical-align: middle;\n",
       "    }\n",
       "\n",
       "    .dataframe tbody tr th {\n",
       "        vertical-align: top;\n",
       "    }\n",
       "\n",
       "    .dataframe thead th {\n",
       "        text-align: right;\n",
       "    }\n",
       "</style>\n",
       "<table border=\"1\" class=\"dataframe\">\n",
       "  <thead>\n",
       "    <tr style=\"text-align: right;\">\n",
       "      <th></th>\n",
       "      <th>hash</th>\n",
       "      <th>millisecond</th>\n",
       "      <th>classification</th>\n",
       "      <th>state</th>\n",
       "      <th>usage_counter</th>\n",
       "      <th>prio</th>\n",
       "      <th>static_prio</th>\n",
       "      <th>normal_prio</th>\n",
       "      <th>policy</th>\n",
       "      <th>vm_pgoff</th>\n",
       "      <th>...</th>\n",
       "      <th>nivcsw</th>\n",
       "      <th>min_flt</th>\n",
       "      <th>maj_flt</th>\n",
       "      <th>fs_excl_counter</th>\n",
       "      <th>lock</th>\n",
       "      <th>utime</th>\n",
       "      <th>stime</th>\n",
       "      <th>gtime</th>\n",
       "      <th>cgtime</th>\n",
       "      <th>signal_nvcsw</th>\n",
       "    </tr>\n",
       "  </thead>\n",
       "  <tbody>\n",
       "    <tr>\n",
       "      <th>0</th>\n",
       "      <td>42fb5e2ec009a05ff5143227297074f1e9c6c3ebb9c914...</td>\n",
       "      <td>0</td>\n",
       "      <td>malware</td>\n",
       "      <td>0</td>\n",
       "      <td>0</td>\n",
       "      <td>3069378560</td>\n",
       "      <td>14274</td>\n",
       "      <td>0</td>\n",
       "      <td>0</td>\n",
       "      <td>0</td>\n",
       "      <td>...</td>\n",
       "      <td>0</td>\n",
       "      <td>0</td>\n",
       "      <td>120</td>\n",
       "      <td>0</td>\n",
       "      <td>3204448256</td>\n",
       "      <td>380690</td>\n",
       "      <td>4</td>\n",
       "      <td>0</td>\n",
       "      <td>0</td>\n",
       "      <td>0</td>\n",
       "    </tr>\n",
       "    <tr>\n",
       "      <th>1</th>\n",
       "      <td>42fb5e2ec009a05ff5143227297074f1e9c6c3ebb9c914...</td>\n",
       "      <td>1</td>\n",
       "      <td>malware</td>\n",
       "      <td>0</td>\n",
       "      <td>0</td>\n",
       "      <td>3069378560</td>\n",
       "      <td>14274</td>\n",
       "      <td>0</td>\n",
       "      <td>0</td>\n",
       "      <td>0</td>\n",
       "      <td>...</td>\n",
       "      <td>0</td>\n",
       "      <td>0</td>\n",
       "      <td>120</td>\n",
       "      <td>0</td>\n",
       "      <td>3204448256</td>\n",
       "      <td>380690</td>\n",
       "      <td>4</td>\n",
       "      <td>0</td>\n",
       "      <td>0</td>\n",
       "      <td>0</td>\n",
       "    </tr>\n",
       "    <tr>\n",
       "      <th>2</th>\n",
       "      <td>42fb5e2ec009a05ff5143227297074f1e9c6c3ebb9c914...</td>\n",
       "      <td>2</td>\n",
       "      <td>malware</td>\n",
       "      <td>0</td>\n",
       "      <td>0</td>\n",
       "      <td>3069378560</td>\n",
       "      <td>14274</td>\n",
       "      <td>0</td>\n",
       "      <td>0</td>\n",
       "      <td>0</td>\n",
       "      <td>...</td>\n",
       "      <td>0</td>\n",
       "      <td>0</td>\n",
       "      <td>120</td>\n",
       "      <td>0</td>\n",
       "      <td>3204448256</td>\n",
       "      <td>380690</td>\n",
       "      <td>4</td>\n",
       "      <td>0</td>\n",
       "      <td>0</td>\n",
       "      <td>0</td>\n",
       "    </tr>\n",
       "    <tr>\n",
       "      <th>3</th>\n",
       "      <td>42fb5e2ec009a05ff5143227297074f1e9c6c3ebb9c914...</td>\n",
       "      <td>3</td>\n",
       "      <td>malware</td>\n",
       "      <td>0</td>\n",
       "      <td>0</td>\n",
       "      <td>3069378560</td>\n",
       "      <td>14274</td>\n",
       "      <td>0</td>\n",
       "      <td>0</td>\n",
       "      <td>0</td>\n",
       "      <td>...</td>\n",
       "      <td>0</td>\n",
       "      <td>0</td>\n",
       "      <td>120</td>\n",
       "      <td>0</td>\n",
       "      <td>3204448256</td>\n",
       "      <td>380690</td>\n",
       "      <td>4</td>\n",
       "      <td>0</td>\n",
       "      <td>0</td>\n",
       "      <td>0</td>\n",
       "    </tr>\n",
       "    <tr>\n",
       "      <th>4</th>\n",
       "      <td>42fb5e2ec009a05ff5143227297074f1e9c6c3ebb9c914...</td>\n",
       "      <td>4</td>\n",
       "      <td>malware</td>\n",
       "      <td>0</td>\n",
       "      <td>0</td>\n",
       "      <td>3069378560</td>\n",
       "      <td>14274</td>\n",
       "      <td>0</td>\n",
       "      <td>0</td>\n",
       "      <td>0</td>\n",
       "      <td>...</td>\n",
       "      <td>0</td>\n",
       "      <td>0</td>\n",
       "      <td>120</td>\n",
       "      <td>0</td>\n",
       "      <td>3204448256</td>\n",
       "      <td>380690</td>\n",
       "      <td>4</td>\n",
       "      <td>0</td>\n",
       "      <td>0</td>\n",
       "      <td>0</td>\n",
       "    </tr>\n",
       "  </tbody>\n",
       "</table>\n",
       "<p>5 rows × 35 columns</p>\n",
       "</div>"
      ],
      "text/plain": [
       "                                                hash  millisecond  \\\n",
       "0  42fb5e2ec009a05ff5143227297074f1e9c6c3ebb9c914...            0   \n",
       "1  42fb5e2ec009a05ff5143227297074f1e9c6c3ebb9c914...            1   \n",
       "2  42fb5e2ec009a05ff5143227297074f1e9c6c3ebb9c914...            2   \n",
       "3  42fb5e2ec009a05ff5143227297074f1e9c6c3ebb9c914...            3   \n",
       "4  42fb5e2ec009a05ff5143227297074f1e9c6c3ebb9c914...            4   \n",
       "\n",
       "  classification  state  usage_counter        prio  static_prio  normal_prio  \\\n",
       "0        malware      0              0  3069378560        14274            0   \n",
       "1        malware      0              0  3069378560        14274            0   \n",
       "2        malware      0              0  3069378560        14274            0   \n",
       "3        malware      0              0  3069378560        14274            0   \n",
       "4        malware      0              0  3069378560        14274            0   \n",
       "\n",
       "   policy  vm_pgoff  ...  nivcsw  min_flt  maj_flt  fs_excl_counter  \\\n",
       "0       0         0  ...       0        0      120                0   \n",
       "1       0         0  ...       0        0      120                0   \n",
       "2       0         0  ...       0        0      120                0   \n",
       "3       0         0  ...       0        0      120                0   \n",
       "4       0         0  ...       0        0      120                0   \n",
       "\n",
       "         lock   utime  stime  gtime  cgtime  signal_nvcsw  \n",
       "0  3204448256  380690      4      0       0             0  \n",
       "1  3204448256  380690      4      0       0             0  \n",
       "2  3204448256  380690      4      0       0             0  \n",
       "3  3204448256  380690      4      0       0             0  \n",
       "4  3204448256  380690      4      0       0             0  \n",
       "\n",
       "[5 rows x 35 columns]"
      ]
     },
     "execution_count": 2,
     "metadata": {},
     "output_type": "execute_result"
    }
   ],
   "source": [
    "raw_data = pd.read_csv(\"/kaggle/input/malware-detection/Malware dataset.csv\")\n",
    "print(raw_data.shape)\n",
    "raw_data.head()"
   ]
  },
  {
   "cell_type": "code",
   "execution_count": 3,
   "metadata": {
    "execution": {
     "iopub.execute_input": "2023-10-29T04:53:13.367510Z",
     "iopub.status.busy": "2023-10-29T04:53:13.366621Z",
     "iopub.status.idle": "2023-10-29T04:53:13.370146Z",
     "shell.execute_reply": "2023-10-29T04:53:13.369577Z",
     "shell.execute_reply.started": "2023-10-29T04:52:05.932312Z"
    },
    "papermill": {
     "duration": 0.033752,
     "end_time": "2023-10-29T04:53:13.370275",
     "exception": false,
     "start_time": "2023-10-29T04:53:13.336523",
     "status": "completed"
    },
    "tags": []
   },
   "outputs": [
    {
     "data": {
      "text/plain": [
       "Index(['hash', 'millisecond', 'classification', 'state', 'usage_counter',\n",
       "       'prio', 'static_prio', 'normal_prio', 'policy', 'vm_pgoff',\n",
       "       'vm_truncate_count', 'task_size', 'cached_hole_size', 'free_area_cache',\n",
       "       'mm_users', 'map_count', 'hiwater_rss', 'total_vm', 'shared_vm',\n",
       "       'exec_vm', 'reserved_vm', 'nr_ptes', 'end_data', 'last_interval',\n",
       "       'nvcsw', 'nivcsw', 'min_flt', 'maj_flt', 'fs_excl_counter', 'lock',\n",
       "       'utime', 'stime', 'gtime', 'cgtime', 'signal_nvcsw'],\n",
       "      dtype='object')"
      ]
     },
     "execution_count": 3,
     "metadata": {},
     "output_type": "execute_result"
    }
   ],
   "source": [
    "raw_data.columns"
   ]
  },
  {
   "cell_type": "markdown",
   "metadata": {
    "papermill": {
     "duration": 0.025833,
     "end_time": "2023-10-29T04:53:13.422113",
     "exception": false,
     "start_time": "2023-10-29T04:53:13.396280",
     "status": "completed"
    },
    "tags": []
   },
   "source": [
    "Based on the characteristics of the observations, the dataset was created in a Unix / Lunix-based\n",
    "virtual machine for classification purposes, which are harmless with malware software for Android\n",
    "devices. The data set consists of 100,000 observation data and 35 features. Below is a table of\n",
    "specifications and descriptions."
   ]
  },
  {
   "cell_type": "markdown",
   "metadata": {
    "papermill": {
     "duration": 0.025514,
     "end_time": "2023-10-29T04:53:13.473423",
     "exception": false,
     "start_time": "2023-10-29T04:53:13.447909",
     "status": "completed"
    },
    "tags": []
   },
   "source": [
    "| Features Description \t| Properties                                                      \t|\n",
    "|----------------------\t|-----------------------------------------------------------------\t|\n",
    "| hash APK/ SHA256     \t| file name                                                       \t|\n",
    "| milisecond           \t| time                                                            \t|\n",
    "| classification       \t| malware/beign                                                   \t|\n",
    "| state                \t| flag of unrunable/runnable/stopped tasks                        \t|\n",
    "| usage_counter        \t| task structure usage counter                                    \t|\n",
    "| prio                 \t| keeps the dynamic priority of a process                         \t|\n",
    "| static_prio          \t| static priority of a process                                    \t|\n",
    "| normal_prio          \t| priority without taking RT-inheritance into account             \t|\n",
    "| policy               \t| planning policy of the process                                  \t|\n",
    "| vm_pgoff             \t| the offset of the area in the file, in pages.                   \t|\n",
    "| vm_truncate_count    \t| used to mark a vma as now dealt with                            \t|\n",
    "| task_size            \t| size of current task.                                           \t|\n",
    "| cached_hole_size     \t| size of free address space hole.                                \t|\n",
    "| free_area_cache      \t| first address space hole                                        \t|\n",
    "| mm_users             \t| address space users                                             \t|\n",
    "| map_count            \t| number of memory areas                                          \t|\n",
    "| hiwater_rss          \t| peak of resident set size                                       \t|\n",
    "| total_vm             \t| total number of pages                                           \t|\n",
    "| shared_vm            \t| number of shared pages.                                         \t|\n",
    "| exec_vm              \t| number of executable pages.                                     \t|\n",
    "| reserved_vm          \t| number of reserved pages.                                       \t|\n",
    "| nr_ptes              \t| number of page table entries                                    \t|\n",
    "| end_data             \t| end address of code component                                   \t|\n",
    "| last_interval        \t| last interval time before thrashing                             \t|\n",
    "| nvcsw                \t| number of volunteer context switches.                           \t|\n",
    "| nivcsw               \t| number of in-volunteer context switches                         \t|\n",
    "| min_flt              \t| minör page faults                                               \t|\n",
    "| maj_flt              \t| majör page faults                                               \t|\n",
    "| fs_excl_counter      \t| ıt holds file system exclusive resources.                       \t|\n",
    "| lock                 \t| the read-write synchronization lock used for file system access \t|\n",
    "| utime                \t| user time                                                       \t|\n",
    "| stime                \t| system time                                                     \t|\n",
    "| gtime                \t| guest time                                                      \t|\n",
    "| cgtime               \t| cumulative group time. Cumulative resource counter              \t|\n",
    "| signal_nvcsw         \t| used as cumulative resource counter.                            \t|\n"
   ]
  },
  {
   "cell_type": "code",
   "execution_count": 4,
   "metadata": {
    "execution": {
     "iopub.execute_input": "2023-10-29T04:53:13.554667Z",
     "iopub.status.busy": "2023-10-29T04:53:13.553252Z",
     "iopub.status.idle": "2023-10-29T04:53:13.753787Z",
     "shell.execute_reply": "2023-10-29T04:53:13.754314Z",
     "shell.execute_reply.started": "2023-10-29T04:52:05.939238Z"
    },
    "papermill": {
     "duration": 0.254618,
     "end_time": "2023-10-29T04:53:13.754478",
     "exception": false,
     "start_time": "2023-10-29T04:53:13.499860",
     "status": "completed"
    },
    "tags": []
   },
   "outputs": [
    {
     "data": {
      "text/html": [
       "<div>\n",
       "<style scoped>\n",
       "    .dataframe tbody tr th:only-of-type {\n",
       "        vertical-align: middle;\n",
       "    }\n",
       "\n",
       "    .dataframe tbody tr th {\n",
       "        vertical-align: top;\n",
       "    }\n",
       "\n",
       "    .dataframe thead th {\n",
       "        text-align: right;\n",
       "    }\n",
       "</style>\n",
       "<table border=\"1\" class=\"dataframe\">\n",
       "  <thead>\n",
       "    <tr style=\"text-align: right;\">\n",
       "      <th></th>\n",
       "      <th>hash</th>\n",
       "      <th>millisecond</th>\n",
       "      <th>classification</th>\n",
       "      <th>state</th>\n",
       "      <th>usage_counter</th>\n",
       "      <th>prio</th>\n",
       "      <th>static_prio</th>\n",
       "      <th>normal_prio</th>\n",
       "      <th>policy</th>\n",
       "      <th>vm_pgoff</th>\n",
       "      <th>...</th>\n",
       "      <th>nivcsw</th>\n",
       "      <th>min_flt</th>\n",
       "      <th>maj_flt</th>\n",
       "      <th>fs_excl_counter</th>\n",
       "      <th>lock</th>\n",
       "      <th>utime</th>\n",
       "      <th>stime</th>\n",
       "      <th>gtime</th>\n",
       "      <th>cgtime</th>\n",
       "      <th>signal_nvcsw</th>\n",
       "    </tr>\n",
       "  </thead>\n",
       "  <tbody>\n",
       "    <tr>\n",
       "      <th>count</th>\n",
       "      <td>100000</td>\n",
       "      <td>100000.000000</td>\n",
       "      <td>100000</td>\n",
       "      <td>1.000000e+05</td>\n",
       "      <td>100000.0</td>\n",
       "      <td>1.000000e+05</td>\n",
       "      <td>100000.000000</td>\n",
       "      <td>100000.0</td>\n",
       "      <td>100000.0</td>\n",
       "      <td>100000.0</td>\n",
       "      <td>...</td>\n",
       "      <td>100000.000000</td>\n",
       "      <td>100000.000000</td>\n",
       "      <td>100000.000000</td>\n",
       "      <td>100000.000000</td>\n",
       "      <td>1.000000e+05</td>\n",
       "      <td>100000.000000</td>\n",
       "      <td>100000.000000</td>\n",
       "      <td>100000.00000</td>\n",
       "      <td>100000.0</td>\n",
       "      <td>100000.0</td>\n",
       "    </tr>\n",
       "    <tr>\n",
       "      <th>unique</th>\n",
       "      <td>100</td>\n",
       "      <td>NaN</td>\n",
       "      <td>2</td>\n",
       "      <td>NaN</td>\n",
       "      <td>NaN</td>\n",
       "      <td>NaN</td>\n",
       "      <td>NaN</td>\n",
       "      <td>NaN</td>\n",
       "      <td>NaN</td>\n",
       "      <td>NaN</td>\n",
       "      <td>...</td>\n",
       "      <td>NaN</td>\n",
       "      <td>NaN</td>\n",
       "      <td>NaN</td>\n",
       "      <td>NaN</td>\n",
       "      <td>NaN</td>\n",
       "      <td>NaN</td>\n",
       "      <td>NaN</td>\n",
       "      <td>NaN</td>\n",
       "      <td>NaN</td>\n",
       "      <td>NaN</td>\n",
       "    </tr>\n",
       "    <tr>\n",
       "      <th>top</th>\n",
       "      <td>1119f652a5b1f04e98835e2b2ed56efe990e9073aa7dcb...</td>\n",
       "      <td>NaN</td>\n",
       "      <td>benign</td>\n",
       "      <td>NaN</td>\n",
       "      <td>NaN</td>\n",
       "      <td>NaN</td>\n",
       "      <td>NaN</td>\n",
       "      <td>NaN</td>\n",
       "      <td>NaN</td>\n",
       "      <td>NaN</td>\n",
       "      <td>...</td>\n",
       "      <td>NaN</td>\n",
       "      <td>NaN</td>\n",
       "      <td>NaN</td>\n",
       "      <td>NaN</td>\n",
       "      <td>NaN</td>\n",
       "      <td>NaN</td>\n",
       "      <td>NaN</td>\n",
       "      <td>NaN</td>\n",
       "      <td>NaN</td>\n",
       "      <td>NaN</td>\n",
       "    </tr>\n",
       "    <tr>\n",
       "      <th>freq</th>\n",
       "      <td>1000</td>\n",
       "      <td>NaN</td>\n",
       "      <td>50000</td>\n",
       "      <td>NaN</td>\n",
       "      <td>NaN</td>\n",
       "      <td>NaN</td>\n",
       "      <td>NaN</td>\n",
       "      <td>NaN</td>\n",
       "      <td>NaN</td>\n",
       "      <td>NaN</td>\n",
       "      <td>...</td>\n",
       "      <td>NaN</td>\n",
       "      <td>NaN</td>\n",
       "      <td>NaN</td>\n",
       "      <td>NaN</td>\n",
       "      <td>NaN</td>\n",
       "      <td>NaN</td>\n",
       "      <td>NaN</td>\n",
       "      <td>NaN</td>\n",
       "      <td>NaN</td>\n",
       "      <td>NaN</td>\n",
       "    </tr>\n",
       "    <tr>\n",
       "      <th>mean</th>\n",
       "      <td>NaN</td>\n",
       "      <td>499.500000</td>\n",
       "      <td>NaN</td>\n",
       "      <td>1.577683e+05</td>\n",
       "      <td>0.0</td>\n",
       "      <td>3.069706e+09</td>\n",
       "      <td>18183.900070</td>\n",
       "      <td>0.0</td>\n",
       "      <td>0.0</td>\n",
       "      <td>0.0</td>\n",
       "      <td>...</td>\n",
       "      <td>32.991160</td>\n",
       "      <td>2.053130</td>\n",
       "      <td>117.920240</td>\n",
       "      <td>1.109190</td>\n",
       "      <td>3.204448e+09</td>\n",
       "      <td>385415.451970</td>\n",
       "      <td>4.059310</td>\n",
       "      <td>1.66142</td>\n",
       "      <td>0.0</td>\n",
       "      <td>0.0</td>\n",
       "    </tr>\n",
       "    <tr>\n",
       "      <th>std</th>\n",
       "      <td>NaN</td>\n",
       "      <td>288.676434</td>\n",
       "      <td>NaN</td>\n",
       "      <td>9.361726e+05</td>\n",
       "      <td>0.0</td>\n",
       "      <td>2.963061e+05</td>\n",
       "      <td>4609.792765</td>\n",
       "      <td>0.0</td>\n",
       "      <td>0.0</td>\n",
       "      <td>0.0</td>\n",
       "      <td>...</td>\n",
       "      <td>52.730176</td>\n",
       "      <td>13.881382</td>\n",
       "      <td>3.116892</td>\n",
       "      <td>2.160466</td>\n",
       "      <td>0.000000e+00</td>\n",
       "      <td>10144.036494</td>\n",
       "      <td>0.822848</td>\n",
       "      <td>3.26304</td>\n",
       "      <td>0.0</td>\n",
       "      <td>0.0</td>\n",
       "    </tr>\n",
       "    <tr>\n",
       "      <th>min</th>\n",
       "      <td>NaN</td>\n",
       "      <td>0.000000</td>\n",
       "      <td>NaN</td>\n",
       "      <td>0.000000e+00</td>\n",
       "      <td>0.0</td>\n",
       "      <td>3.069190e+09</td>\n",
       "      <td>13988.000000</td>\n",
       "      <td>0.0</td>\n",
       "      <td>0.0</td>\n",
       "      <td>0.0</td>\n",
       "      <td>...</td>\n",
       "      <td>0.000000</td>\n",
       "      <td>0.000000</td>\n",
       "      <td>112.000000</td>\n",
       "      <td>0.000000</td>\n",
       "      <td>3.204448e+09</td>\n",
       "      <td>371782.000000</td>\n",
       "      <td>3.000000</td>\n",
       "      <td>0.00000</td>\n",
       "      <td>0.0</td>\n",
       "      <td>0.0</td>\n",
       "    </tr>\n",
       "    <tr>\n",
       "      <th>25%</th>\n",
       "      <td>NaN</td>\n",
       "      <td>249.750000</td>\n",
       "      <td>NaN</td>\n",
       "      <td>0.000000e+00</td>\n",
       "      <td>0.0</td>\n",
       "      <td>3.069446e+09</td>\n",
       "      <td>14352.000000</td>\n",
       "      <td>0.0</td>\n",
       "      <td>0.0</td>\n",
       "      <td>0.0</td>\n",
       "      <td>...</td>\n",
       "      <td>1.000000</td>\n",
       "      <td>0.000000</td>\n",
       "      <td>114.000000</td>\n",
       "      <td>0.000000</td>\n",
       "      <td>3.204448e+09</td>\n",
       "      <td>378208.000000</td>\n",
       "      <td>3.000000</td>\n",
       "      <td>0.00000</td>\n",
       "      <td>0.0</td>\n",
       "      <td>0.0</td>\n",
       "    </tr>\n",
       "    <tr>\n",
       "      <th>50%</th>\n",
       "      <td>NaN</td>\n",
       "      <td>499.500000</td>\n",
       "      <td>NaN</td>\n",
       "      <td>0.000000e+00</td>\n",
       "      <td>0.0</td>\n",
       "      <td>3.069698e+09</td>\n",
       "      <td>16159.000000</td>\n",
       "      <td>0.0</td>\n",
       "      <td>0.0</td>\n",
       "      <td>0.0</td>\n",
       "      <td>...</td>\n",
       "      <td>9.000000</td>\n",
       "      <td>1.000000</td>\n",
       "      <td>120.000000</td>\n",
       "      <td>0.000000</td>\n",
       "      <td>3.204448e+09</td>\n",
       "      <td>383637.000000</td>\n",
       "      <td>4.000000</td>\n",
       "      <td>0.00000</td>\n",
       "      <td>0.0</td>\n",
       "      <td>0.0</td>\n",
       "    </tr>\n",
       "    <tr>\n",
       "      <th>75%</th>\n",
       "      <td>NaN</td>\n",
       "      <td>749.250000</td>\n",
       "      <td>NaN</td>\n",
       "      <td>4.096000e+03</td>\n",
       "      <td>0.0</td>\n",
       "      <td>3.069957e+09</td>\n",
       "      <td>22182.000000</td>\n",
       "      <td>0.0</td>\n",
       "      <td>0.0</td>\n",
       "      <td>0.0</td>\n",
       "      <td>...</td>\n",
       "      <td>46.000000</td>\n",
       "      <td>1.000000</td>\n",
       "      <td>120.000000</td>\n",
       "      <td>1.000000</td>\n",
       "      <td>3.204448e+09</td>\n",
       "      <td>390324.000000</td>\n",
       "      <td>5.000000</td>\n",
       "      <td>1.00000</td>\n",
       "      <td>0.0</td>\n",
       "      <td>0.0</td>\n",
       "    </tr>\n",
       "    <tr>\n",
       "      <th>max</th>\n",
       "      <td>NaN</td>\n",
       "      <td>999.000000</td>\n",
       "      <td>NaN</td>\n",
       "      <td>4.326605e+07</td>\n",
       "      <td>0.0</td>\n",
       "      <td>3.070222e+09</td>\n",
       "      <td>31855.000000</td>\n",
       "      <td>0.0</td>\n",
       "      <td>0.0</td>\n",
       "      <td>0.0</td>\n",
       "      <td>...</td>\n",
       "      <td>365.000000</td>\n",
       "      <td>256.000000</td>\n",
       "      <td>120.000000</td>\n",
       "      <td>18.000000</td>\n",
       "      <td>3.204448e+09</td>\n",
       "      <td>421913.000000</td>\n",
       "      <td>7.000000</td>\n",
       "      <td>15.00000</td>\n",
       "      <td>0.0</td>\n",
       "      <td>0.0</td>\n",
       "    </tr>\n",
       "  </tbody>\n",
       "</table>\n",
       "<p>11 rows × 35 columns</p>\n",
       "</div>"
      ],
      "text/plain": [
       "                                                     hash    millisecond  \\\n",
       "count                                              100000  100000.000000   \n",
       "unique                                                100            NaN   \n",
       "top     1119f652a5b1f04e98835e2b2ed56efe990e9073aa7dcb...            NaN   \n",
       "freq                                                 1000            NaN   \n",
       "mean                                                  NaN     499.500000   \n",
       "std                                                   NaN     288.676434   \n",
       "min                                                   NaN       0.000000   \n",
       "25%                                                   NaN     249.750000   \n",
       "50%                                                   NaN     499.500000   \n",
       "75%                                                   NaN     749.250000   \n",
       "max                                                   NaN     999.000000   \n",
       "\n",
       "       classification         state  usage_counter          prio  \\\n",
       "count          100000  1.000000e+05       100000.0  1.000000e+05   \n",
       "unique              2           NaN            NaN           NaN   \n",
       "top            benign           NaN            NaN           NaN   \n",
       "freq            50000           NaN            NaN           NaN   \n",
       "mean              NaN  1.577683e+05            0.0  3.069706e+09   \n",
       "std               NaN  9.361726e+05            0.0  2.963061e+05   \n",
       "min               NaN  0.000000e+00            0.0  3.069190e+09   \n",
       "25%               NaN  0.000000e+00            0.0  3.069446e+09   \n",
       "50%               NaN  0.000000e+00            0.0  3.069698e+09   \n",
       "75%               NaN  4.096000e+03            0.0  3.069957e+09   \n",
       "max               NaN  4.326605e+07            0.0  3.070222e+09   \n",
       "\n",
       "          static_prio  normal_prio    policy  vm_pgoff  ...         nivcsw  \\\n",
       "count   100000.000000     100000.0  100000.0  100000.0  ...  100000.000000   \n",
       "unique            NaN          NaN       NaN       NaN  ...            NaN   \n",
       "top               NaN          NaN       NaN       NaN  ...            NaN   \n",
       "freq              NaN          NaN       NaN       NaN  ...            NaN   \n",
       "mean     18183.900070          0.0       0.0       0.0  ...      32.991160   \n",
       "std       4609.792765          0.0       0.0       0.0  ...      52.730176   \n",
       "min      13988.000000          0.0       0.0       0.0  ...       0.000000   \n",
       "25%      14352.000000          0.0       0.0       0.0  ...       1.000000   \n",
       "50%      16159.000000          0.0       0.0       0.0  ...       9.000000   \n",
       "75%      22182.000000          0.0       0.0       0.0  ...      46.000000   \n",
       "max      31855.000000          0.0       0.0       0.0  ...     365.000000   \n",
       "\n",
       "              min_flt        maj_flt  fs_excl_counter          lock  \\\n",
       "count   100000.000000  100000.000000    100000.000000  1.000000e+05   \n",
       "unique            NaN            NaN              NaN           NaN   \n",
       "top               NaN            NaN              NaN           NaN   \n",
       "freq              NaN            NaN              NaN           NaN   \n",
       "mean         2.053130     117.920240         1.109190  3.204448e+09   \n",
       "std         13.881382       3.116892         2.160466  0.000000e+00   \n",
       "min          0.000000     112.000000         0.000000  3.204448e+09   \n",
       "25%          0.000000     114.000000         0.000000  3.204448e+09   \n",
       "50%          1.000000     120.000000         0.000000  3.204448e+09   \n",
       "75%          1.000000     120.000000         1.000000  3.204448e+09   \n",
       "max        256.000000     120.000000        18.000000  3.204448e+09   \n",
       "\n",
       "                utime          stime         gtime    cgtime  signal_nvcsw  \n",
       "count   100000.000000  100000.000000  100000.00000  100000.0      100000.0  \n",
       "unique            NaN            NaN           NaN       NaN           NaN  \n",
       "top               NaN            NaN           NaN       NaN           NaN  \n",
       "freq              NaN            NaN           NaN       NaN           NaN  \n",
       "mean    385415.451970       4.059310       1.66142       0.0           0.0  \n",
       "std      10144.036494       0.822848       3.26304       0.0           0.0  \n",
       "min     371782.000000       3.000000       0.00000       0.0           0.0  \n",
       "25%     378208.000000       3.000000       0.00000       0.0           0.0  \n",
       "50%     383637.000000       4.000000       0.00000       0.0           0.0  \n",
       "75%     390324.000000       5.000000       1.00000       0.0           0.0  \n",
       "max     421913.000000       7.000000      15.00000       0.0           0.0  \n",
       "\n",
       "[11 rows x 35 columns]"
      ]
     },
     "execution_count": 4,
     "metadata": {},
     "output_type": "execute_result"
    }
   ],
   "source": [
    "# read some statistics of the dataset\n",
    "raw_data.describe(include=\"all\")"
   ]
  },
  {
   "cell_type": "code",
   "execution_count": 5,
   "metadata": {
    "execution": {
     "iopub.execute_input": "2023-10-29T04:53:13.813699Z",
     "iopub.status.busy": "2023-10-29T04:53:13.812598Z",
     "iopub.status.idle": "2023-10-29T04:53:13.856224Z",
     "shell.execute_reply": "2023-10-29T04:53:13.855697Z",
     "shell.execute_reply.started": "2023-10-29T04:52:06.172222Z"
    },
    "papermill": {
     "duration": 0.074911,
     "end_time": "2023-10-29T04:53:13.856375",
     "exception": false,
     "start_time": "2023-10-29T04:53:13.781464",
     "status": "completed"
    },
    "tags": []
   },
   "outputs": [
    {
     "name": "stdout",
     "output_type": "stream",
     "text": [
      "<class 'pandas.core.frame.DataFrame'>\n",
      "RangeIndex: 100000 entries, 0 to 99999\n",
      "Data columns (total 35 columns):\n",
      " #   Column             Non-Null Count   Dtype \n",
      "---  ------             --------------   ----- \n",
      " 0   hash               100000 non-null  object\n",
      " 1   millisecond        100000 non-null  int64 \n",
      " 2   classification     100000 non-null  object\n",
      " 3   state              100000 non-null  int64 \n",
      " 4   usage_counter      100000 non-null  int64 \n",
      " 5   prio               100000 non-null  int64 \n",
      " 6   static_prio        100000 non-null  int64 \n",
      " 7   normal_prio        100000 non-null  int64 \n",
      " 8   policy             100000 non-null  int64 \n",
      " 9   vm_pgoff           100000 non-null  int64 \n",
      " 10  vm_truncate_count  100000 non-null  int64 \n",
      " 11  task_size          100000 non-null  int64 \n",
      " 12  cached_hole_size   100000 non-null  int64 \n",
      " 13  free_area_cache    100000 non-null  int64 \n",
      " 14  mm_users           100000 non-null  int64 \n",
      " 15  map_count          100000 non-null  int64 \n",
      " 16  hiwater_rss        100000 non-null  int64 \n",
      " 17  total_vm           100000 non-null  int64 \n",
      " 18  shared_vm          100000 non-null  int64 \n",
      " 19  exec_vm            100000 non-null  int64 \n",
      " 20  reserved_vm        100000 non-null  int64 \n",
      " 21  nr_ptes            100000 non-null  int64 \n",
      " 22  end_data           100000 non-null  int64 \n",
      " 23  last_interval      100000 non-null  int64 \n",
      " 24  nvcsw              100000 non-null  int64 \n",
      " 25  nivcsw             100000 non-null  int64 \n",
      " 26  min_flt            100000 non-null  int64 \n",
      " 27  maj_flt            100000 non-null  int64 \n",
      " 28  fs_excl_counter    100000 non-null  int64 \n",
      " 29  lock               100000 non-null  int64 \n",
      " 30  utime              100000 non-null  int64 \n",
      " 31  stime              100000 non-null  int64 \n",
      " 32  gtime              100000 non-null  int64 \n",
      " 33  cgtime             100000 non-null  int64 \n",
      " 34  signal_nvcsw       100000 non-null  int64 \n",
      "dtypes: int64(33), object(2)\n",
      "memory usage: 26.7+ MB\n"
     ]
    }
   ],
   "source": [
    "# Check the DataType of our dataset\n",
    "raw_data.info()"
   ]
  },
  {
   "cell_type": "markdown",
   "metadata": {
    "papermill": {
     "duration": 0.027249,
     "end_time": "2023-10-29T04:53:13.911168",
     "exception": false,
     "start_time": "2023-10-29T04:53:13.883919",
     "status": "completed"
    },
    "tags": []
   },
   "source": [
    "The data is already clean."
   ]
  },
  {
   "cell_type": "code",
   "execution_count": 6,
   "metadata": {
    "execution": {
     "iopub.execute_input": "2023-10-29T04:53:13.970470Z",
     "iopub.status.busy": "2023-10-29T04:53:13.969498Z",
     "iopub.status.idle": "2023-10-29T04:53:13.972459Z",
     "shell.execute_reply": "2023-10-29T04:53:13.971880Z",
     "shell.execute_reply.started": "2023-10-29T04:52:06.218374Z"
    },
    "papermill": {
     "duration": 0.033769,
     "end_time": "2023-10-29T04:53:13.972562",
     "exception": false,
     "start_time": "2023-10-29T04:53:13.938793",
     "status": "completed"
    },
    "tags": []
   },
   "outputs": [],
   "source": [
    "#Start Processing\n",
    "data = raw_data"
   ]
  },
  {
   "cell_type": "code",
   "execution_count": 7,
   "metadata": {
    "execution": {
     "iopub.execute_input": "2023-10-29T04:53:14.062069Z",
     "iopub.status.busy": "2023-10-29T04:53:14.061277Z",
     "iopub.status.idle": "2023-10-29T04:53:14.065580Z",
     "shell.execute_reply": "2023-10-29T04:53:14.065010Z",
     "shell.execute_reply.started": "2023-10-29T04:52:06.226484Z"
    },
    "papermill": {
     "duration": 0.065202,
     "end_time": "2023-10-29T04:53:14.065698",
     "exception": false,
     "start_time": "2023-10-29T04:53:14.000496",
     "status": "completed"
    },
    "tags": []
   },
   "outputs": [
    {
     "data": {
      "text/plain": [
       "benign     50000\n",
       "malware    50000\n",
       "Name: classification, dtype: int64"
      ]
     },
     "execution_count": 7,
     "metadata": {},
     "output_type": "execute_result"
    }
   ],
   "source": [
    "data[\"classification\"].value_counts()"
   ]
  },
  {
   "cell_type": "code",
   "execution_count": 8,
   "metadata": {
    "execution": {
     "iopub.execute_input": "2023-10-29T04:53:14.142982Z",
     "iopub.status.busy": "2023-10-29T04:53:14.142339Z",
     "iopub.status.idle": "2023-10-29T04:53:14.162436Z",
     "shell.execute_reply": "2023-10-29T04:53:14.161888Z",
     "shell.execute_reply.started": "2023-10-29T04:52:06.265719Z"
    },
    "papermill": {
     "duration": 0.067049,
     "end_time": "2023-10-29T04:53:14.162563",
     "exception": false,
     "start_time": "2023-10-29T04:53:14.095514",
     "status": "completed"
    },
    "tags": []
   },
   "outputs": [
    {
     "data": {
      "text/html": [
       "<div>\n",
       "<style scoped>\n",
       "    .dataframe tbody tr th:only-of-type {\n",
       "        vertical-align: middle;\n",
       "    }\n",
       "\n",
       "    .dataframe tbody tr th {\n",
       "        vertical-align: top;\n",
       "    }\n",
       "\n",
       "    .dataframe thead th {\n",
       "        text-align: right;\n",
       "    }\n",
       "</style>\n",
       "<table border=\"1\" class=\"dataframe\">\n",
       "  <thead>\n",
       "    <tr style=\"text-align: right;\">\n",
       "      <th></th>\n",
       "      <th>hash</th>\n",
       "      <th>millisecond</th>\n",
       "      <th>classification</th>\n",
       "      <th>state</th>\n",
       "      <th>usage_counter</th>\n",
       "      <th>prio</th>\n",
       "      <th>static_prio</th>\n",
       "      <th>normal_prio</th>\n",
       "      <th>policy</th>\n",
       "      <th>vm_pgoff</th>\n",
       "      <th>...</th>\n",
       "      <th>nivcsw</th>\n",
       "      <th>min_flt</th>\n",
       "      <th>maj_flt</th>\n",
       "      <th>fs_excl_counter</th>\n",
       "      <th>lock</th>\n",
       "      <th>utime</th>\n",
       "      <th>stime</th>\n",
       "      <th>gtime</th>\n",
       "      <th>cgtime</th>\n",
       "      <th>signal_nvcsw</th>\n",
       "    </tr>\n",
       "  </thead>\n",
       "  <tbody>\n",
       "    <tr>\n",
       "      <th>0</th>\n",
       "      <td>42fb5e2ec009a05ff5143227297074f1e9c6c3ebb9c914...</td>\n",
       "      <td>0</td>\n",
       "      <td>1</td>\n",
       "      <td>0</td>\n",
       "      <td>0</td>\n",
       "      <td>3069378560</td>\n",
       "      <td>14274</td>\n",
       "      <td>0</td>\n",
       "      <td>0</td>\n",
       "      <td>0</td>\n",
       "      <td>...</td>\n",
       "      <td>0</td>\n",
       "      <td>0</td>\n",
       "      <td>120</td>\n",
       "      <td>0</td>\n",
       "      <td>3204448256</td>\n",
       "      <td>380690</td>\n",
       "      <td>4</td>\n",
       "      <td>0</td>\n",
       "      <td>0</td>\n",
       "      <td>0</td>\n",
       "    </tr>\n",
       "    <tr>\n",
       "      <th>1</th>\n",
       "      <td>42fb5e2ec009a05ff5143227297074f1e9c6c3ebb9c914...</td>\n",
       "      <td>1</td>\n",
       "      <td>1</td>\n",
       "      <td>0</td>\n",
       "      <td>0</td>\n",
       "      <td>3069378560</td>\n",
       "      <td>14274</td>\n",
       "      <td>0</td>\n",
       "      <td>0</td>\n",
       "      <td>0</td>\n",
       "      <td>...</td>\n",
       "      <td>0</td>\n",
       "      <td>0</td>\n",
       "      <td>120</td>\n",
       "      <td>0</td>\n",
       "      <td>3204448256</td>\n",
       "      <td>380690</td>\n",
       "      <td>4</td>\n",
       "      <td>0</td>\n",
       "      <td>0</td>\n",
       "      <td>0</td>\n",
       "    </tr>\n",
       "    <tr>\n",
       "      <th>2</th>\n",
       "      <td>42fb5e2ec009a05ff5143227297074f1e9c6c3ebb9c914...</td>\n",
       "      <td>2</td>\n",
       "      <td>1</td>\n",
       "      <td>0</td>\n",
       "      <td>0</td>\n",
       "      <td>3069378560</td>\n",
       "      <td>14274</td>\n",
       "      <td>0</td>\n",
       "      <td>0</td>\n",
       "      <td>0</td>\n",
       "      <td>...</td>\n",
       "      <td>0</td>\n",
       "      <td>0</td>\n",
       "      <td>120</td>\n",
       "      <td>0</td>\n",
       "      <td>3204448256</td>\n",
       "      <td>380690</td>\n",
       "      <td>4</td>\n",
       "      <td>0</td>\n",
       "      <td>0</td>\n",
       "      <td>0</td>\n",
       "    </tr>\n",
       "    <tr>\n",
       "      <th>3</th>\n",
       "      <td>42fb5e2ec009a05ff5143227297074f1e9c6c3ebb9c914...</td>\n",
       "      <td>3</td>\n",
       "      <td>1</td>\n",
       "      <td>0</td>\n",
       "      <td>0</td>\n",
       "      <td>3069378560</td>\n",
       "      <td>14274</td>\n",
       "      <td>0</td>\n",
       "      <td>0</td>\n",
       "      <td>0</td>\n",
       "      <td>...</td>\n",
       "      <td>0</td>\n",
       "      <td>0</td>\n",
       "      <td>120</td>\n",
       "      <td>0</td>\n",
       "      <td>3204448256</td>\n",
       "      <td>380690</td>\n",
       "      <td>4</td>\n",
       "      <td>0</td>\n",
       "      <td>0</td>\n",
       "      <td>0</td>\n",
       "    </tr>\n",
       "    <tr>\n",
       "      <th>4</th>\n",
       "      <td>42fb5e2ec009a05ff5143227297074f1e9c6c3ebb9c914...</td>\n",
       "      <td>4</td>\n",
       "      <td>1</td>\n",
       "      <td>0</td>\n",
       "      <td>0</td>\n",
       "      <td>3069378560</td>\n",
       "      <td>14274</td>\n",
       "      <td>0</td>\n",
       "      <td>0</td>\n",
       "      <td>0</td>\n",
       "      <td>...</td>\n",
       "      <td>0</td>\n",
       "      <td>0</td>\n",
       "      <td>120</td>\n",
       "      <td>0</td>\n",
       "      <td>3204448256</td>\n",
       "      <td>380690</td>\n",
       "      <td>4</td>\n",
       "      <td>0</td>\n",
       "      <td>0</td>\n",
       "      <td>0</td>\n",
       "    </tr>\n",
       "  </tbody>\n",
       "</table>\n",
       "<p>5 rows × 35 columns</p>\n",
       "</div>"
      ],
      "text/plain": [
       "                                                hash  millisecond  \\\n",
       "0  42fb5e2ec009a05ff5143227297074f1e9c6c3ebb9c914...            0   \n",
       "1  42fb5e2ec009a05ff5143227297074f1e9c6c3ebb9c914...            1   \n",
       "2  42fb5e2ec009a05ff5143227297074f1e9c6c3ebb9c914...            2   \n",
       "3  42fb5e2ec009a05ff5143227297074f1e9c6c3ebb9c914...            3   \n",
       "4  42fb5e2ec009a05ff5143227297074f1e9c6c3ebb9c914...            4   \n",
       "\n",
       "   classification  state  usage_counter        prio  static_prio  normal_prio  \\\n",
       "0               1      0              0  3069378560        14274            0   \n",
       "1               1      0              0  3069378560        14274            0   \n",
       "2               1      0              0  3069378560        14274            0   \n",
       "3               1      0              0  3069378560        14274            0   \n",
       "4               1      0              0  3069378560        14274            0   \n",
       "\n",
       "   policy  vm_pgoff  ...  nivcsw  min_flt  maj_flt  fs_excl_counter  \\\n",
       "0       0         0  ...       0        0      120                0   \n",
       "1       0         0  ...       0        0      120                0   \n",
       "2       0         0  ...       0        0      120                0   \n",
       "3       0         0  ...       0        0      120                0   \n",
       "4       0         0  ...       0        0      120                0   \n",
       "\n",
       "         lock   utime  stime  gtime  cgtime  signal_nvcsw  \n",
       "0  3204448256  380690      4      0       0             0  \n",
       "1  3204448256  380690      4      0       0             0  \n",
       "2  3204448256  380690      4      0       0             0  \n",
       "3  3204448256  380690      4      0       0             0  \n",
       "4  3204448256  380690      4      0       0             0  \n",
       "\n",
       "[5 rows x 35 columns]"
      ]
     },
     "execution_count": 8,
     "metadata": {},
     "output_type": "execute_result"
    }
   ],
   "source": [
    "data['classification'] = data.classification.map({'benign':0, 'malware':1})\n",
    "data.head()"
   ]
  },
  {
   "cell_type": "code",
   "execution_count": 9,
   "metadata": {
    "execution": {
     "iopub.execute_input": "2023-10-29T04:53:14.228812Z",
     "iopub.status.busy": "2023-10-29T04:53:14.225958Z",
     "iopub.status.idle": "2023-10-29T04:53:14.297772Z",
     "shell.execute_reply": "2023-10-29T04:53:14.297096Z",
     "shell.execute_reply.started": "2023-10-29T04:52:06.308421Z"
    },
    "papermill": {
     "duration": 0.105865,
     "end_time": "2023-10-29T04:53:14.297884",
     "exception": false,
     "start_time": "2023-10-29T04:53:14.192019",
     "status": "completed"
    },
    "tags": []
   },
   "outputs": [
    {
     "data": {
      "text/html": [
       "<div>\n",
       "<style scoped>\n",
       "    .dataframe tbody tr th:only-of-type {\n",
       "        vertical-align: middle;\n",
       "    }\n",
       "\n",
       "    .dataframe tbody tr th {\n",
       "        vertical-align: top;\n",
       "    }\n",
       "\n",
       "    .dataframe thead th {\n",
       "        text-align: right;\n",
       "    }\n",
       "</style>\n",
       "<table border=\"1\" class=\"dataframe\">\n",
       "  <thead>\n",
       "    <tr style=\"text-align: right;\">\n",
       "      <th></th>\n",
       "      <th>hash</th>\n",
       "      <th>millisecond</th>\n",
       "      <th>classification</th>\n",
       "      <th>state</th>\n",
       "      <th>usage_counter</th>\n",
       "      <th>prio</th>\n",
       "      <th>static_prio</th>\n",
       "      <th>normal_prio</th>\n",
       "      <th>policy</th>\n",
       "      <th>vm_pgoff</th>\n",
       "      <th>...</th>\n",
       "      <th>nivcsw</th>\n",
       "      <th>min_flt</th>\n",
       "      <th>maj_flt</th>\n",
       "      <th>fs_excl_counter</th>\n",
       "      <th>lock</th>\n",
       "      <th>utime</th>\n",
       "      <th>stime</th>\n",
       "      <th>gtime</th>\n",
       "      <th>cgtime</th>\n",
       "      <th>signal_nvcsw</th>\n",
       "    </tr>\n",
       "  </thead>\n",
       "  <tbody>\n",
       "    <tr>\n",
       "      <th>0</th>\n",
       "      <td>079277b8b6049c06806b79216901d0e9ff473bfe2c2454...</td>\n",
       "      <td>520</td>\n",
       "      <td>1</td>\n",
       "      <td>0</td>\n",
       "      <td>0</td>\n",
       "      <td>3070205952</td>\n",
       "      <td>22225</td>\n",
       "      <td>0</td>\n",
       "      <td>0</td>\n",
       "      <td>0</td>\n",
       "      <td>...</td>\n",
       "      <td>1</td>\n",
       "      <td>0</td>\n",
       "      <td>114</td>\n",
       "      <td>0</td>\n",
       "      <td>3204448256</td>\n",
       "      <td>382482</td>\n",
       "      <td>4</td>\n",
       "      <td>1</td>\n",
       "      <td>0</td>\n",
       "      <td>0</td>\n",
       "    </tr>\n",
       "    <tr>\n",
       "      <th>1</th>\n",
       "      <td>2e185a901298b5ec69b2b22538a1fec71a4434fa495ffb...</td>\n",
       "      <td>219</td>\n",
       "      <td>1</td>\n",
       "      <td>0</td>\n",
       "      <td>0</td>\n",
       "      <td>3069493248</td>\n",
       "      <td>22175</td>\n",
       "      <td>0</td>\n",
       "      <td>0</td>\n",
       "      <td>0</td>\n",
       "      <td>...</td>\n",
       "      <td>4</td>\n",
       "      <td>0</td>\n",
       "      <td>114</td>\n",
       "      <td>2</td>\n",
       "      <td>3204448256</td>\n",
       "      <td>381912</td>\n",
       "      <td>4</td>\n",
       "      <td>0</td>\n",
       "      <td>0</td>\n",
       "      <td>0</td>\n",
       "    </tr>\n",
       "    <tr>\n",
       "      <th>2</th>\n",
       "      <td>com.tangram3D.AthleticsFree.apk</td>\n",
       "      <td>340</td>\n",
       "      <td>0</td>\n",
       "      <td>1093632</td>\n",
       "      <td>0</td>\n",
       "      <td>3069411328</td>\n",
       "      <td>16565</td>\n",
       "      <td>0</td>\n",
       "      <td>0</td>\n",
       "      <td>0</td>\n",
       "      <td>...</td>\n",
       "      <td>69</td>\n",
       "      <td>1</td>\n",
       "      <td>120</td>\n",
       "      <td>18</td>\n",
       "      <td>3204448256</td>\n",
       "      <td>381827</td>\n",
       "      <td>3</td>\n",
       "      <td>12</td>\n",
       "      <td>0</td>\n",
       "      <td>0</td>\n",
       "    </tr>\n",
       "    <tr>\n",
       "      <th>3</th>\n",
       "      <td>079277b8b6049c06806b79216901d0e9ff473bfe2c2454...</td>\n",
       "      <td>285</td>\n",
       "      <td>1</td>\n",
       "      <td>0</td>\n",
       "      <td>0</td>\n",
       "      <td>3070205952</td>\n",
       "      <td>22225</td>\n",
       "      <td>0</td>\n",
       "      <td>0</td>\n",
       "      <td>0</td>\n",
       "      <td>...</td>\n",
       "      <td>1</td>\n",
       "      <td>0</td>\n",
       "      <td>114</td>\n",
       "      <td>0</td>\n",
       "      <td>3204448256</td>\n",
       "      <td>382477</td>\n",
       "      <td>4</td>\n",
       "      <td>1</td>\n",
       "      <td>0</td>\n",
       "      <td>0</td>\n",
       "    </tr>\n",
       "    <tr>\n",
       "      <th>4</th>\n",
       "      <td>4499a97e58677e7ee9fc7bd16f51b796b5fe28f87429e7...</td>\n",
       "      <td>145</td>\n",
       "      <td>1</td>\n",
       "      <td>4096</td>\n",
       "      <td>0</td>\n",
       "      <td>3069706240</td>\n",
       "      <td>22225</td>\n",
       "      <td>0</td>\n",
       "      <td>0</td>\n",
       "      <td>0</td>\n",
       "      <td>...</td>\n",
       "      <td>7</td>\n",
       "      <td>0</td>\n",
       "      <td>114</td>\n",
       "      <td>0</td>\n",
       "      <td>3204448256</td>\n",
       "      <td>382477</td>\n",
       "      <td>4</td>\n",
       "      <td>0</td>\n",
       "      <td>0</td>\n",
       "      <td>0</td>\n",
       "    </tr>\n",
       "  </tbody>\n",
       "</table>\n",
       "<p>5 rows × 35 columns</p>\n",
       "</div>"
      ],
      "text/plain": [
       "                                                hash  millisecond  \\\n",
       "0  079277b8b6049c06806b79216901d0e9ff473bfe2c2454...          520   \n",
       "1  2e185a901298b5ec69b2b22538a1fec71a4434fa495ffb...          219   \n",
       "2                    com.tangram3D.AthleticsFree.apk          340   \n",
       "3  079277b8b6049c06806b79216901d0e9ff473bfe2c2454...          285   \n",
       "4  4499a97e58677e7ee9fc7bd16f51b796b5fe28f87429e7...          145   \n",
       "\n",
       "   classification    state  usage_counter        prio  static_prio  \\\n",
       "0               1        0              0  3070205952        22225   \n",
       "1               1        0              0  3069493248        22175   \n",
       "2               0  1093632              0  3069411328        16565   \n",
       "3               1        0              0  3070205952        22225   \n",
       "4               1     4096              0  3069706240        22225   \n",
       "\n",
       "   normal_prio  policy  vm_pgoff  ...  nivcsw  min_flt  maj_flt  \\\n",
       "0            0       0         0  ...       1        0      114   \n",
       "1            0       0         0  ...       4        0      114   \n",
       "2            0       0         0  ...      69        1      120   \n",
       "3            0       0         0  ...       1        0      114   \n",
       "4            0       0         0  ...       7        0      114   \n",
       "\n",
       "   fs_excl_counter        lock   utime  stime  gtime  cgtime  signal_nvcsw  \n",
       "0                0  3204448256  382482      4      1       0             0  \n",
       "1                2  3204448256  381912      4      0       0             0  \n",
       "2               18  3204448256  381827      3     12       0             0  \n",
       "3                0  3204448256  382477      4      1       0             0  \n",
       "4                0  3204448256  382477      4      0       0             0  \n",
       "\n",
       "[5 rows x 35 columns]"
      ]
     },
     "execution_count": 9,
     "metadata": {},
     "output_type": "execute_result"
    }
   ],
   "source": [
    "# Shuffle data\n",
    "data = data.sample(frac=1).reset_index(drop=True)\n",
    "data.head()"
   ]
  },
  {
   "cell_type": "code",
   "execution_count": 10,
   "metadata": {
    "execution": {
     "iopub.execute_input": "2023-10-29T04:53:14.361826Z",
     "iopub.status.busy": "2023-10-29T04:53:14.361160Z",
     "iopub.status.idle": "2023-10-29T04:53:15.127405Z",
     "shell.execute_reply": "2023-10-29T04:53:15.126692Z",
     "shell.execute_reply.started": "2023-10-29T04:52:06.375765Z"
    },
    "papermill": {
     "duration": 0.800694,
     "end_time": "2023-10-29T04:53:15.127545",
     "exception": false,
     "start_time": "2023-10-29T04:53:14.326851",
     "status": "completed"
    },
    "tags": []
   },
   "outputs": [],
   "source": [
    "#Import drawing tools\n",
    "\n",
    "import matplotlib.pyplot as plt\n",
    "import seaborn as sns"
   ]
  },
  {
   "cell_type": "code",
   "execution_count": 11,
   "metadata": {
    "execution": {
     "iopub.execute_input": "2023-10-29T04:53:15.196309Z",
     "iopub.status.busy": "2023-10-29T04:53:15.195647Z",
     "iopub.status.idle": "2023-10-29T04:53:15.349272Z",
     "shell.execute_reply": "2023-10-29T04:53:15.348494Z",
     "shell.execute_reply.started": "2023-10-29T04:52:06.383467Z"
    },
    "papermill": {
     "duration": 0.189807,
     "end_time": "2023-10-29T04:53:15.349393",
     "exception": false,
     "start_time": "2023-10-29T04:53:15.159586",
     "status": "completed"
    },
    "tags": []
   },
   "outputs": [
    {
     "data": {
      "image/png": "[encoded data removed]",
      "text/plain": [
       "<Figure size 432x288 with 1 Axes>"
      ]
     },
     "metadata": {
      "needs_background": "light"
     },
     "output_type": "display_data"
    }
   ],
   "source": [
    "sns.countplot(data[\"classification\"])\n",
    "plt.show()"
   ]
  },
  {
   "cell_type": "code",
   "execution_count": 12,
   "metadata": {
    "execution": {
     "iopub.execute_input": "2023-10-29T04:53:15.421744Z",
     "iopub.status.busy": "2023-10-29T04:53:15.420426Z",
     "iopub.status.idle": "2023-10-29T04:53:17.666645Z",
     "shell.execute_reply": "2023-10-29T04:53:17.667181Z",
     "shell.execute_reply.started": "2023-10-29T04:52:06.530502Z"
    },
    "papermill": {
     "duration": 2.285125,
     "end_time": "2023-10-29T04:53:17.667357",
     "exception": false,
     "start_time": "2023-10-29T04:53:15.382232",
     "status": "completed"
    },
    "tags": []
   },
   "outputs": [
    {
     "data": {
      "image/png": "[encoded data removed]",
      "text/plain": [
       "<Figure size 432x288 with 2 Axes>"
      ]
     },
     "metadata": {
      "needs_background": "light"
     },
     "output_type": "display_data"
    }
   ],
   "source": [
    "corrMatrix = data.corr()\n",
    "sns.heatmap(corrMatrix, annot=True)\n",
    "plt.show()"
   ]
  },
  {
   "cell_type": "code",
   "execution_count": 13,
   "metadata": {
    "execution": {
     "iopub.execute_input": "2023-10-29T04:53:17.752061Z",
     "iopub.status.busy": "2023-10-29T04:53:17.750999Z",
     "iopub.status.idle": "2023-10-29T04:53:17.753461Z",
     "shell.execute_reply": "2023-10-29T04:53:17.753901Z",
     "shell.execute_reply.started": "2023-10-29T04:52:08.854385Z"
    },
    "papermill": {
     "duration": 0.051087,
     "end_time": "2023-10-29T04:53:17.754050",
     "exception": false,
     "start_time": "2023-10-29T04:53:17.702963",
     "status": "completed"
    },
    "tags": []
   },
   "outputs": [],
   "source": [
    "X = data.drop([\"hash\",\"classification\",'vm_truncate_count','shared_vm','exec_vm','nvcsw','maj_flt','utime'],axis=1)\n",
    "Y = data[\"classification\"]"
   ]
  },
  {
   "cell_type": "code",
   "execution_count": 14,
   "metadata": {
    "execution": {
     "iopub.execute_input": "2023-10-29T04:53:17.826730Z",
     "iopub.status.busy": "2023-10-29T04:53:17.826047Z",
     "iopub.status.idle": "2023-10-29T04:53:17.938812Z",
     "shell.execute_reply": "2023-10-29T04:53:17.938122Z",
     "shell.execute_reply.started": "2023-10-29T04:52:08.867157Z"
    },
    "papermill": {
     "duration": 0.150917,
     "end_time": "2023-10-29T04:53:17.938922",
     "exception": false,
     "start_time": "2023-10-29T04:53:17.788005",
     "status": "completed"
    },
    "tags": []
   },
   "outputs": [],
   "source": [
    "from sklearn.model_selection import train_test_split\n",
    "x_train,x_test,y_train,y_test=train_test_split(X,Y,test_size=0.2,random_state=1)"
   ]
  },
  {
   "cell_type": "markdown",
   "metadata": {
    "papermill": {
     "duration": 0.076008,
     "end_time": "2023-10-29T04:53:18.049468",
     "exception": false,
     "start_time": "2023-10-29T04:53:17.973460",
     "status": "completed"
    },
    "tags": []
   },
   "source": [
    "Before we feed to a NN, we need to normalize the data"
   ]
  },
  {
   "cell_type": "code",
   "execution_count": 15,
   "metadata": {
    "execution": {
     "iopub.execute_input": "2023-10-29T04:53:18.122921Z",
     "iopub.status.busy": "2023-10-29T04:53:18.121903Z",
     "iopub.status.idle": "2023-10-29T04:53:18.124548Z",
     "shell.execute_reply": "2023-10-29T04:53:18.125023Z",
     "shell.execute_reply.started": "2023-10-29T04:52:08.898008Z"
    },
    "papermill": {
     "duration": 0.041497,
     "end_time": "2023-10-29T04:53:18.125151",
     "exception": false,
     "start_time": "2023-10-29T04:53:18.083654",
     "status": "completed"
    },
    "tags": []
   },
   "outputs": [],
   "source": [
    "# Data normalization\n",
    "\n",
    "from sklearn.preprocessing import StandardScaler\n",
    "\n",
    "scaler = StandardScaler()"
   ]
  },
  {
   "cell_type": "code",
   "execution_count": 16,
   "metadata": {
    "execution": {
     "iopub.execute_input": "2023-10-29T04:53:18.202965Z",
     "iopub.status.busy": "2023-10-29T04:53:18.201580Z",
     "iopub.status.idle": "2023-10-29T04:53:18.249198Z",
     "shell.execute_reply": "2023-10-29T04:53:18.248586Z",
     "shell.execute_reply.started": "2023-10-29T04:52:08.903346Z"
    },
    "papermill": {
     "duration": 0.090291,
     "end_time": "2023-10-29T04:53:18.249352",
     "exception": false,
     "start_time": "2023-10-29T04:53:18.159061",
     "status": "completed"
    },
    "tags": []
   },
   "outputs": [],
   "source": [
    "x_train = scaler.fit_transform(x_train)\n",
    "x_test = scaler.transform(x_test)"
   ]
  },
  {
   "cell_type": "code",
   "execution_count": 17,
   "metadata": {
    "execution": {
     "iopub.execute_input": "2023-10-29T04:53:18.321552Z",
     "iopub.status.busy": "2023-10-29T04:53:18.320941Z",
     "iopub.status.idle": "2023-10-29T04:53:22.768242Z",
     "shell.execute_reply": "2023-10-29T04:53:22.767634Z",
     "shell.execute_reply.started": "2023-10-29T04:52:08.955479Z"
    },
    "papermill": {
     "duration": 4.484778,
     "end_time": "2023-10-29T04:53:22.768378",
     "exception": false,
     "start_time": "2023-10-29T04:53:18.283600",
     "status": "completed"
    },
    "tags": []
   },
   "outputs": [],
   "source": [
    "import tensorflow as tf"
   ]
  },
  {
   "cell_type": "code",
   "execution_count": 18,
   "metadata": {
    "execution": {
     "iopub.execute_input": "2023-10-29T04:53:22.848448Z",
     "iopub.status.busy": "2023-10-29T04:53:22.847771Z",
     "iopub.status.idle": "2023-10-29T04:53:25.126356Z",
     "shell.execute_reply": "2023-10-29T04:53:25.127294Z",
     "shell.execute_reply.started": "2023-10-29T04:52:08.961207Z"
    },
    "papermill": {
     "duration": 2.323956,
     "end_time": "2023-10-29T04:53:25.127523",
     "exception": false,
     "start_time": "2023-10-29T04:53:22.803567",
     "status": "completed"
    },
    "tags": []
   },
   "outputs": [
    {
     "name": "stdout",
     "output_type": "stream",
     "text": [
      "Model: \"sequential\"\n",
      "_________________________________________________________________\n",
      "Layer (type)                 Output Shape              Param #   \n",
      "=================================================================\n",
      "dense (Dense)                (None, 256)               7168      \n",
      "_________________________________________________________________\n",
      "dense_1 (Dense)              (None, 256)               65792     \n",
      "_________________________________________________________________\n",
      "dense_2 (Dense)              (None, 256)               65792     \n",
      "_________________________________________________________________\n",
      "dense_3 (Dense)              (None, 256)               65792     \n",
      "_________________________________________________________________\n",
      "dense_4 (Dense)              (None, 256)               65792     \n",
      "_________________________________________________________________\n",
      "dense_5 (Dense)              (None, 256)               65792     \n",
      "_________________________________________________________________\n",
      "dense_6 (Dense)              (None, 2)                 514       \n",
      "=================================================================\n",
      "Total params: 336,642\n",
      "Trainable params: 336,642\n",
      "Non-trainable params: 0\n",
      "_________________________________________________________________\n"
     ]
    }
   ],
   "source": [
    "#Number of attributes\n",
    "input_size = 27 \n",
    "\n",
    "#Number of Outputs\n",
    "output_size = 2 \n",
    "\n",
    "# Use same hidden layer size for both hidden layers. Not a necessity.\n",
    "hidden_layer_size = 256\n",
    "    \n",
    "# define how the model will look like\n",
    "model = tf.keras.Sequential([\n",
    "    tf.keras.layers.Dense(hidden_layer_size, input_shape=(input_size,), activation='tanh'), # 1st hidden layer\n",
    "    tf.keras.layers.Dense(hidden_layer_size, activation='tanh'),\n",
    "    tf.keras.layers.Dense(hidden_layer_size, activation='tanh'),\n",
    "    tf.keras.layers.Dense(hidden_layer_size, activation='tanh'),\n",
    "    tf.keras.layers.Dense(hidden_layer_size, activation='tanh'),\n",
    "    tf.keras.layers.Dense(hidden_layer_size, activation='tanh'),\n",
    "    tf.keras.layers.Dense(output_size, activation='softmax') # output layer\n",
    "])\n",
    "\n",
    "model.summary()"
   ]
  },
  {
   "cell_type": "code",
   "execution_count": 19,
   "metadata": {
    "execution": {
     "iopub.execute_input": "2023-10-29T04:53:25.209486Z",
     "iopub.status.busy": "2023-10-29T04:53:25.206611Z",
     "iopub.status.idle": "2023-10-29T04:53:25.216272Z",
     "shell.execute_reply": "2023-10-29T04:53:25.215604Z",
     "shell.execute_reply.started": "2023-10-29T04:52:09.023455Z"
    },
    "papermill": {
     "duration": 0.053424,
     "end_time": "2023-10-29T04:53:25.216379",
     "exception": false,
     "start_time": "2023-10-29T04:53:25.162955",
     "status": "completed"
    },
    "tags": []
   },
   "outputs": [],
   "source": [
    "# from sklearn.metrics import precision_score, recall_score, f1_score\n",
    "\n",
    "# # Define custom metric functions\n",
    "# def precision_metric(y_true, y_pred):\n",
    "#     return precision_score(y_true, y_pred, average='weighted')\n",
    "\n",
    "# def recall_metric(y_true, y_pred):\n",
    "#     return recall_score(y_true, y_pred, average='weighted')\n",
    "\n",
    "# def f1_metric(y_true, y_pred):\n",
    "#     return f1_score(y_true, y_pred, average='weighted')\n",
    "\n",
    "model.compile(optimizer='adam', loss='sparse_categorical_crossentropy', metrics=['accuracy'])\n",
    "\n",
    "#from keras.optimizers import SGD\n",
    "#opt = SGD(lr=0.01)\n",
    "#sgd = SGD(lr=0.01, decay=1e-6, momentum=0.9, nesterov=True)\n",
    "#model.compile(optimizer = sgd, loss = \"sparse_categorical_crossentropy\", metrics=['accuracy'])"
   ]
  },
  {
   "cell_type": "code",
   "execution_count": 20,
   "metadata": {
    "execution": {
     "iopub.execute_input": "2023-10-29T04:53:25.289596Z",
     "iopub.status.busy": "2023-10-29T04:53:25.288956Z",
     "iopub.status.idle": "2023-10-29T04:53:25.292018Z",
     "shell.execute_reply": "2023-10-29T04:53:25.291536Z",
     "shell.execute_reply.started": "2023-10-29T04:52:09.038645Z"
    },
    "papermill": {
     "duration": 0.041706,
     "end_time": "2023-10-29T04:53:25.292123",
     "exception": false,
     "start_time": "2023-10-29T04:53:25.250417",
     "status": "completed"
    },
    "tags": []
   },
   "outputs": [],
   "source": [
    "# set the batch size\n",
    "batch_size = 200\n",
    "\n",
    "# set a maximum number of training epochs\n",
    "max_epochs = 25\n",
    "\n",
    "# set an early stopping mechanism\n",
    "# let's set patience=2, to be a bit tolerant against random validation loss increases\n",
    "early_stopping = tf.keras.callbacks.EarlyStopping(patience=2)"
   ]
  },
  {
   "cell_type": "code",
   "execution_count": 21,
   "metadata": {
    "execution": {
     "iopub.execute_input": "2023-10-29T04:53:25.366889Z",
     "iopub.status.busy": "2023-10-29T04:53:25.365917Z",
     "iopub.status.idle": "2023-10-29T04:53:43.885009Z",
     "shell.execute_reply": "2023-10-29T04:53:43.884334Z",
     "shell.execute_reply.started": "2023-10-29T04:52:09.046867Z"
    },
    "papermill": {
     "duration": 18.558592,
     "end_time": "2023-10-29T04:53:43.885126",
     "exception": false,
     "start_time": "2023-10-29T04:53:25.326534",
     "status": "completed"
    },
    "tags": []
   },
   "outputs": [
    {
     "name": "stdout",
     "output_type": "stream",
     "text": [
      "Epoch 1/25\n",
      "320/320 [==============================] - 1s 3ms/step - loss: 0.0955 - accuracy: 0.9634 - val_loss: 0.0152 - val_accuracy: 0.9946\n",
      "Epoch 2/25\n",
      "320/320 [==============================] - 1s 2ms/step - loss: 0.0131 - accuracy: 0.9955 - val_loss: 0.0028 - val_accuracy: 0.9992\n",
      "Epoch 3/25\n",
      "320/320 [==============================] - 1s 2ms/step - loss: 0.0137 - accuracy: 0.9958 - val_loss: 0.0032 - val_accuracy: 0.9989\n",
      "Epoch 4/25\n",
      "320/320 [==============================] - 1s 2ms/step - loss: 0.0026 - accuracy: 0.9992 - val_loss: 0.0011 - val_accuracy: 0.9996\n",
      "Epoch 5/25\n",
      "320/320 [==============================] - 1s 2ms/step - loss: 0.0089 - accuracy: 0.9976 - val_loss: 0.0061 - val_accuracy: 0.9983\n",
      "Epoch 6/25\n",
      "320/320 [==============================] - 1s 2ms/step - loss: 0.0014 - accuracy: 0.9996 - val_loss: 0.0028 - val_accuracy: 0.9994\n",
      "Epoch 7/25\n",
      "320/320 [==============================] - 1s 2ms/step - loss: 0.0156 - accuracy: 0.9959 - val_loss: 0.0183 - val_accuracy: 0.9964\n",
      "Epoch 8/25\n",
      "320/320 [==============================] - 1s 2ms/step - loss: 0.0040 - accuracy: 0.9990 - val_loss: 0.0011 - val_accuracy: 0.9997\n",
      "Epoch 9/25\n",
      "320/320 [==============================] - 1s 2ms/step - loss: 7.3581e-04 - accuracy: 0.9999 - val_loss: 6.4530e-04 - val_accuracy: 0.9998\n",
      "Epoch 10/25\n",
      "320/320 [==============================] - 1s 2ms/step - loss: 3.6997e-04 - accuracy: 0.9999 - val_loss: 8.3932e-04 - val_accuracy: 0.9997\n",
      "Epoch 11/25\n",
      "320/320 [==============================] - 1s 2ms/step - loss: 0.0094 - accuracy: 0.9973 - val_loss: 0.0061 - val_accuracy: 0.9975\n",
      "Epoch 12/25\n",
      "320/320 [==============================] - 1s 2ms/step - loss: 0.0119 - accuracy: 0.9967 - val_loss: 0.0058 - val_accuracy: 0.9978\n",
      "Epoch 13/25\n",
      "320/320 [==============================] - 1s 2ms/step - loss: 0.0016 - accuracy: 0.9997 - val_loss: 2.4826e-04 - val_accuracy: 0.9999\n",
      "Epoch 14/25\n",
      "320/320 [==============================] - 1s 2ms/step - loss: 7.1744e-04 - accuracy: 0.9999 - val_loss: 4.7945e-04 - val_accuracy: 0.9999\n",
      "Epoch 15/25\n",
      "320/320 [==============================] - 1s 2ms/step - loss: 3.9381e-04 - accuracy: 0.9999 - val_loss: 2.9539e-04 - val_accuracy: 0.9999\n",
      "Epoch 16/25\n",
      "320/320 [==============================] - 1s 2ms/step - loss: 2.5587e-04 - accuracy: 0.9999 - val_loss: 2.1020e-04 - val_accuracy: 0.9999\n",
      "Epoch 17/25\n",
      "320/320 [==============================] - 1s 2ms/step - loss: 0.0099 - accuracy: 0.9972 - val_loss: 0.0077 - val_accuracy: 0.9982\n",
      "Epoch 18/25\n",
      "320/320 [==============================] - 1s 2ms/step - loss: 0.0043 - accuracy: 0.9989 - val_loss: 0.0041 - val_accuracy: 0.9992\n",
      "Epoch 19/25\n",
      "320/320 [==============================] - 1s 2ms/step - loss: 6.3208e-04 - accuracy: 0.9998 - val_loss: 2.1788e-04 - val_accuracy: 0.9999\n",
      "Epoch 20/25\n",
      "320/320 [==============================] - 1s 2ms/step - loss: 0.0038 - accuracy: 0.9992 - val_loss: 0.0049 - val_accuracy: 0.9983\n",
      "Epoch 21/25\n",
      "320/320 [==============================] - 1s 2ms/step - loss: 0.0026 - accuracy: 0.9992 - val_loss: 2.9800e-04 - val_accuracy: 0.9999\n",
      "Epoch 22/25\n",
      "320/320 [==============================] - 1s 2ms/step - loss: 0.0192 - accuracy: 0.9951 - val_loss: 0.0011 - val_accuracy: 0.9996\n",
      "Epoch 23/25\n",
      "320/320 [==============================] - 1s 2ms/step - loss: 0.0019 - accuracy: 0.9996 - val_loss: 9.1791e-04 - val_accuracy: 0.9998\n",
      "Epoch 24/25\n",
      "320/320 [==============================] - 1s 2ms/step - loss: 1.0528e-04 - accuracy: 1.0000 - val_loss: 2.1439e-04 - val_accuracy: 0.9999\n",
      "Epoch 25/25\n",
      "320/320 [==============================] - 1s 2ms/step - loss: 0.0022 - accuracy: 0.9995 - val_loss: 0.0029 - val_accuracy: 0.9994\n"
     ]
    }
   ],
   "source": [
    "result = model.fit(x=x_train,\n",
    "                   y=y_train,\n",
    "                   batch_size=batch_size,\n",
    "                   epochs=max_epochs,\n",
    "                   verbose=1,\n",
    "#                    callbacks=[early_stopping],\n",
    "                   validation_split=0.2)\n"
   ]
  },
  {
   "cell_type": "code",
   "execution_count": 22,
   "metadata": {
    "execution": {
     "iopub.execute_input": "2023-10-29T04:53:44.198694Z",
     "iopub.status.busy": "2023-10-29T04:53:44.195446Z",
     "iopub.status.idle": "2023-10-29T04:53:44.662135Z",
     "shell.execute_reply": "2023-10-29T04:53:44.661508Z",
     "shell.execute_reply.started": "2023-10-29T04:52:25.766758Z"
    },
    "papermill": {
     "duration": 0.631547,
     "end_time": "2023-10-29T04:53:44.662239",
     "exception": false,
     "start_time": "2023-10-29T04:53:44.030692",
     "status": "completed"
    },
    "tags": []
   },
   "outputs": [
    {
     "data": {
      "image/png": "[encoded data removed]",
      "text/plain": [
       "<Figure size 1080x360 with 2 Axes>"
      ]
     },
     "metadata": {
      "needs_background": "light"
     },
     "output_type": "display_data"
    }
   ],
   "source": [
    "# Visualize the result\n",
    "acc = result.history['accuracy']\n",
    "val_acc = result.history['val_accuracy']\n",
    "loss = result.history['loss']\n",
    "val_loss = result.history['val_loss']\n",
    "\n",
    "epochs = range(1, len(acc) + 1)\n",
    "\n",
    "fig, (ax1, ax2) = plt.subplots(1, 2, figsize=(15, 5))\n",
    "sns.set_style(\"white\")\n",
    "plt.suptitle('Train history', size = 15)\n",
    "\n",
    "ax1.plot(epochs, acc, \"bo\", label = \"Training acc\")\n",
    "ax1.plot(epochs, val_acc, \"b\", label = \"Validation acc\")\n",
    "ax1.set_title(\"Training and validation acc\")\n",
    "ax1.legend()\n",
    "\n",
    "ax2.plot(epochs, loss, \"bo\", label = \"Training loss\", color = 'red')\n",
    "ax2.plot(epochs, val_loss, \"b\", label = \"Validation loss\", color = 'red')\n",
    "ax2.set_title(\"Training and validation loss\")\n",
    "ax2.legend()\n",
    "\n",
    "plt.show()"
   ]
  },
  {
   "cell_type": "code",
   "execution_count": 23,
   "metadata": {
    "execution": {
     "iopub.execute_input": "2023-10-29T04:53:44.962064Z",
     "iopub.status.busy": "2023-10-29T04:53:44.961424Z",
     "iopub.status.idle": "2023-10-29T04:53:46.228287Z",
     "shell.execute_reply": "2023-10-29T04:53:46.227662Z",
     "shell.execute_reply.started": "2023-10-29T04:52:26.297656Z"
    },
    "papermill": {
     "duration": 1.419279,
     "end_time": "2023-10-29T04:53:46.228403",
     "exception": false,
     "start_time": "2023-10-29T04:53:44.809124",
     "status": "completed"
    },
    "tags": []
   },
   "outputs": [
    {
     "name": "stdout",
     "output_type": "stream",
     "text": [
      "625/625 [==============================] - 1s 2ms/step - loss: 0.0027 - accuracy: 0.9994\n",
      "\n",
      "Test loss: 0.002681. Test accuracy: 99.935001%\n"
     ]
    }
   ],
   "source": [
    "test_loss, test_accuracy = model.evaluate(x_test, y_test)\n",
    "\n",
    "print('\\nTest loss: {0:.6f}. Test accuracy: {1:.6f}%'.format(test_loss, test_accuracy*100.))"
   ]
  },
  {
   "cell_type": "markdown",
   "metadata": {
    "papermill": {
     "duration": 0.176276,
     "end_time": "2023-10-29T04:53:46.563944",
     "exception": false,
     "start_time": "2023-10-29T04:53:46.387668",
     "status": "completed"
    },
    "tags": []
   },
   "source": [
    "Further train the model using SGD with lr=0.001"
   ]
  },
  {
   "cell_type": "code",
   "execution_count": 24,
   "metadata": {
    "execution": {
     "iopub.execute_input": "2023-10-29T04:53:46.877985Z",
     "iopub.status.busy": "2023-10-29T04:53:46.877355Z",
     "iopub.status.idle": "2023-10-29T04:53:46.940661Z",
     "shell.execute_reply": "2023-10-29T04:53:46.939977Z",
     "shell.execute_reply.started": "2023-10-29T04:52:27.490352Z"
    },
    "papermill": {
     "duration": 0.223203,
     "end_time": "2023-10-29T04:53:46.940774",
     "exception": false,
     "start_time": "2023-10-29T04:53:46.717571",
     "status": "completed"
    },
    "tags": []
   },
   "outputs": [],
   "source": [
    "from keras.optimizers import SGD\n",
    "sgd = SGD(lr=0.01)\n",
    "model.compile(optimizer = sgd, loss = \"sparse_categorical_crossentropy\", metrics=['accuracy'])"
   ]
  },
  {
   "cell_type": "code",
   "execution_count": 25,
   "metadata": {
    "execution": {
     "iopub.execute_input": "2023-10-29T04:53:47.256064Z",
     "iopub.status.busy": "2023-10-29T04:53:47.255007Z",
     "iopub.status.idle": "2023-10-29T04:53:49.566440Z",
     "shell.execute_reply": "2023-10-29T04:53:49.565871Z",
     "shell.execute_reply.started": "2023-10-29T04:52:27.508618Z"
    },
    "papermill": {
     "duration": 2.471353,
     "end_time": "2023-10-29T04:53:49.566553",
     "exception": false,
     "start_time": "2023-10-29T04:53:47.095200",
     "status": "completed"
    },
    "tags": []
   },
   "outputs": [
    {
     "name": "stdout",
     "output_type": "stream",
     "text": [
      "Epoch 21/30\n",
      "320/320 [==============================] - 1s 2ms/step - loss: 6.2194e-04 - accuracy: 0.9999 - val_loss: 0.0011 - val_accuracy: 0.9996\n",
      "Epoch 22/30\n",
      "320/320 [==============================] - 1s 2ms/step - loss: 3.1593e-04 - accuracy: 1.0000 - val_loss: 0.0011 - val_accuracy: 0.9998\n",
      "Epoch 23/30\n",
      "320/320 [==============================] - 1s 2ms/step - loss: 2.5354e-04 - accuracy: 1.0000 - val_loss: 0.0011 - val_accuracy: 0.9998\n"
     ]
    }
   ],
   "source": [
    "result = model.fit(x=x_train,\n",
    "                   y=y_train,\n",
    "                   batch_size=batch_size,\n",
    "                   epochs=30,\n",
    "                   verbose=1,\n",
    "                   initial_epoch=20, #start from epoch 11\n",
    "                   callbacks=[early_stopping], #prevent overfitting\n",
    "                   validation_split=0.2)"
   ]
  },
  {
   "cell_type": "code",
   "execution_count": 26,
   "metadata": {
    "execution": {
     "iopub.execute_input": "2023-10-29T04:53:49.910421Z",
     "iopub.status.busy": "2023-10-29T04:53:49.909740Z",
     "iopub.status.idle": "2023-10-29T04:53:51.108722Z",
     "shell.execute_reply": "2023-10-29T04:53:51.108032Z",
     "shell.execute_reply.started": "2023-10-29T04:52:34.244374Z"
    },
    "papermill": {
     "duration": 1.372931,
     "end_time": "2023-10-29T04:53:51.108841",
     "exception": false,
     "start_time": "2023-10-29T04:53:49.735910",
     "status": "completed"
    },
    "tags": []
   },
   "outputs": [
    {
     "name": "stdout",
     "output_type": "stream",
     "text": [
      "625/625 [==============================] - 1s 2ms/step - loss: 6.1880e-04 - accuracy: 0.9999\n",
      "\n",
      "Test loss: 0.000619. Test accuracy: 99.989998%\n"
     ]
    }
   ],
   "source": [
    "test_loss, test_accuracy = model.evaluate(x_test, y_test)\n",
    "\n",
    "print('\\nTest loss: {0:.6f}. Test accuracy: {1:.6f}%'.format(test_loss, test_accuracy*100.))"
   ]
  },
  {
   "cell_type": "code",
   "execution_count": null,
   "metadata": {
    "papermill": {
     "duration": 0.175443,
     "end_time": "2023-10-29T04:53:51.456953",
     "exception": false,
     "start_time": "2023-10-29T04:53:51.281510",
     "status": "completed"
    },
    "tags": []
   },
   "outputs": [],
   "source": []
  }
 ],
 "metadata": {
  "kernelspec": {
   "display_name": "Python 3",
   "language": "python",
   "name": "python3"
  },
  "language_info": {
   "codemirror_mode": {
    "name": "ipython",
    "version": 3
   },
   "file_extension": ".py",
   "mimetype": "text/x-python",
   "name": "python",
   "nbconvert_exporter": "python",
   "pygments_lexer": "ipython3",
   "version": "3.7.6"
  },
  "papermill": {
   "duration": 43.228839,
   "end_time": "2023-10-29T04:53:51.835785",
   "environment_variables": {},
   "exception": null,
   "input_path": "__notebook__.ipynb",
   "output_path": "__notebook__.ipynb",
   "parameters": {},
   "start_time": "2023-10-29T04:53:08.606946",
   "version": "2.1.0"
  }
 },
 "nbformat": 4,
 "nbformat_minor": 4
}
